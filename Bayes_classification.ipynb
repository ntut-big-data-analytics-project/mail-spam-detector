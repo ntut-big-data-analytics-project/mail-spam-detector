{
 "cells": [
  {
   "cell_type": "code",
   "execution_count": null,
   "metadata": {},
   "outputs": [],
   "source": [
    "import findspark\n",
    "findspark.init()\n",
    "from glob import glob\n",
    "import pyspark # only run after findspark.init()\n",
    "from pyspark.sql import SparkSession\n",
    "from pyspark import SparkFiles\n",
    "from pyspark import SparkContext\n",
    "from pyspark import SparkConf\n",
    "from pyspark.mllib.feature import HashingTF\n",
    "from pyspark.mllib.classification import NaiveBayes, NaiveBayesModel\n",
    "from pyspark.mllib.regression import LabeledPoint\n",
    "from pyspark.mllib.util import MLUtils\n",
    "conf = SparkConf()\n",
    "conf.setMaster(\"loacal[*]\")\n",
    "conf.set(\"spark.executor.memory\", \"16g\")\n",
    "sc = SparkContext(conf=conf)\n"
   ]
  },
  {
   "cell_type": "code",
   "execution_count": null,
   "metadata": {},
   "outputs": [],
   "source": [
    "spamlist=list(map(lambda p: sc.textFile(p),glob('chs_cut/trec06c/spam/*/*')))\n",
    "\n",
    "hamlist=list(map(lambda p: sc.textFile(p),glob('chs_cut/trec06c/ham/*/*')))\n",
    "#spamlist=list(map(lambda p: sc.textFile(p),glob('chs_cut/trec06c/spamtest/*')))\n",
    "#hamlist=list(map(lambda p: sc.textFile(p),glob('chs_cut/trec06c/hamtest/*')))\n",
    "spam=sc.union(spamlist)\n",
    "ham=sc.union(hamlist)\n",
    "\n",
    "\n",
    "        "
   ]
  },
  {
   "cell_type": "code",
   "execution_count": null,
   "metadata": {},
   "outputs": [],
   "source": [
    "# Create a HashingTF instance to map sms text to vectors of 100 features.\n",
    "tf = HashingTF(numFeatures = 100)\n",
    "# Each messages is split into words, and each word is mapped to one feature.\n",
    "spamFeatures = spam.map(lambda msg: tf.transform(msg.split(\" \")))\n",
    "hamFeatures = ham.map(lambda msg: tf.transform(msg.split(\" \")))"
   ]
  },
  {
   "cell_type": "code",
   "execution_count": null,
   "metadata": {},
   "outputs": [],
   "source": [
    "# Create LabeledPoint datasets for positive (spam) and negative (ham) examples.\n",
    "positiveExamples = spamFeatures.map(lambda features: LabeledPoint(1, features))\n",
    "negativeExamples = hamFeatures.map(lambda features: LabeledPoint(0, features))\n",
    "training_data = positiveExamples.union(negativeExamples)\n",
    "# cache the training data\n",
    "training_data.cache()"
   ]
  },
  {
   "cell_type": "code",
   "execution_count": null,
   "metadata": {},
   "outputs": [],
   "source": [
    "#create training, test sets\n",
    "trainset, testset = training_data.randomSplit([0.6, 0.4])"
   ]
  },
  {
   "cell_type": "code",
   "execution_count": null,
   "metadata": {},
   "outputs": [],
   "source": [
    "#Fit NaiveBayes\n",
    "model = NaiveBayes.train(trainset, 1.0)"
   ]
  },
  {
   "cell_type": "code",
   "execution_count": null,
   "metadata": {},
   "outputs": [],
   "source": [
    "#predict\n",
    "predictionLabel = testset.map(lambda x: (model.predict(x.features), x.label))"
   ]
  },
  {
   "cell_type": "code",
   "execution_count": null,
   "metadata": {},
   "outputs": [],
   "source": [
    "#model accuracy\n",
    "\n",
    "accuracy = 1.0 * predictionLabel.filter(lambda x : x[0]==x[1]).count()/testset.count()\n",
    "print (\"Model accuracy : {:.2f}\".format(accuracy))"
   ]
  },
  {
   "cell_type": "code",
   "execution_count": null,
   "metadata": {},
   "outputs": [],
   "source": [
    "print(glob('chs_cut/trec06c/spam/*/*'))"
   ]
  },
  {
   "cell_type": "code",
   "execution_count": null,
   "metadata": {},
   "outputs": [],
   "source": [
    "def getFeatures(sc,tf,list) {\n",
    "        l = list.parallelStream().flatMap(path -> {\n",
    "            try {\n",
    "                return Files.lines(path, StandardCharsets.UTF_8).parallel().map(s -> tf.transform(Arrays.asList(s.split(SP_CHAR))));\n",
    "            } catch (IOException e) {\n",
    "                e.printStackTrace();\n",
    "                // return new LinkedList<>().stream();\n",
    "                return null;\n",
    "            }\n",
    "        }).collect(Collectors.toList());\n",
    "\n",
    "        return sc.parallelize(l);\n",
    "    }"
   ]
  }
 ],
 "metadata": {
  "kernelspec": {
   "display_name": "Python 3",
   "language": "python",
   "name": "python3"
  },
  "language_info": {
   "codemirror_mode": {
    "name": "ipython",
    "version": 3
   },
   "file_extension": ".py",
   "mimetype": "text/x-python",
   "name": "python",
   "nbconvert_exporter": "python",
   "pygments_lexer": "ipython3",
   "version": "3.6.5"
  }
 },
 "nbformat": 4,
 "nbformat_minor": 2
}
