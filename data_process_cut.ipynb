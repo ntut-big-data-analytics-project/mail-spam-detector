{
 "cells": [
  {
   "cell_type": "code",
   "execution_count": null,
   "metadata": {},
   "outputs": [],
   "source": [
    "import os\n",
    "from glob import glob\n",
    "from multiprocessing import Pool, freeze_support\n",
    "from os.path import basename, dirname\n",
    "\n",
    "from email_helper import *"
   ]
  },
  {
   "cell_type": "code",
   "execution_count": null,
   "metadata": {},
   "outputs": [],
   "source": [
    "data_set_path = 'trec06c/data/yahoo/*'  # 'trec06c/data/*/*'\n",
    "write_path = 'chs_cut/'\n"
   ]
  },
  {
   "cell_type": "code",
   "execution_count": null,
   "metadata": {},
   "outputs": [],
   "source": [
    "def process_and_write_data(file_path):\n",
    "    try:\n",
    "        seg_list = process_email(file_path)\n",
    "        dst_file_name = write_path + os.path.join(basename(dirname(file_path)), basename(file_path))\n",
    "        os.makedirs(dirname(dst_file_name), exist_ok=True)\n",
    "        with open(dst_file_name, \"w+\", encoding='utf8') as f:\n",
    "            f.write(EMAIL_CONTENT_DELIMITER.join(seg_list))\n",
    "    except Exception as e:\n",
    "        print(file_path, e)\n"
   ]
  },
  {
   "cell_type": "code",
   "execution_count": null,
   "metadata": {},
   "outputs": [],
   "source": [
    "if __name__ == '__main__':\n",
    "    freeze_support()\n",
    "    with Pool(processes=os.cpu_count() << 1) as pool:\n",
    "        (pool.map(process_and_write_data, glob(data_set_path)))\n"
   ]
  },
  {
   "cell_type": "code",
   "execution_count": null,
   "metadata": {},
   "outputs": [],
   "source": [
    "#The following used to test.\n"
   ]
  },
  {
   "cell_type": "code",
   "execution_count": null,
   "metadata": {},
   "outputs": [],
   "source": [
    "os.getcwd()"
   ]
  }
 ],
 "metadata": {
  "kernelspec": {
   "display_name": "Python 3",
   "language": "python",
   "name": "python3"
  },
  "language_info": {
   "codemirror_mode": {
    "name": "ipython",
    "version": 3
   },
   "file_extension": ".py",
   "mimetype": "text/x-python",
   "name": "python",
   "nbconvert_exporter": "python",
   "pygments_lexer": "ipython3",
   "version": "3.6.5"
  }
 },
 "nbformat": 4,
 "nbformat_minor": 2
}
