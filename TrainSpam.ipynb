{
 "cells": [
  {
   "cell_type": "code",
   "execution_count": null,
   "metadata": {
    "colab": {
     "autoexec": {
      "startup": false,
      "wait_interval": 0
     },
     "base_uri": "https://localhost:8080/",
     "height": 2315
    },
    "colab_type": "code",
    "executionInfo": {
     "elapsed": 30363,
     "status": "ok",
     "timestamp": 1526705763853,
     "user": {
      "displayName": "Chen-Tai Peng",
      "photoUrl": "https://lh3.googleusercontent.com/a/default-user=s128",
      "userId": "112742147989007255112"
     },
     "user_tz": -480
    },
    "id": "5hyCgBMWmhHB",
    "outputId": "ac1f5b3a-238e-4792-91c2-b23c382e5e4d"
   },
   "outputs": [],
   "source": [
    "#Google Colab Configure\n",
    "# Install a Drive FUSE wrapper.\n",
    "# https://github.com/astrada/google-drive-ocamlfuse\n",
    "!apt-get install -y -qq software-properties-common python-software-properties module-init-tools\n",
    "!add-apt-repxository -y ppa:alessandro-strada/ppa 2>&1 > /dev/null\n",
    "!apt-get update -qq 2>&1 > /dev/null\n",
    "!apt-get -y install -qq google-drive-ocamlfuse fuse"
   ]
  },
  {
   "cell_type": "code",
   "execution_count": null,
   "metadata": {
    "colab": {
     "autoexec": {
      "startup": false,
      "wait_interval": 0
     }
    },
    "colab_type": "code",
    "id": "nR5yVW_jD1l7"
   },
   "outputs": [],
   "source": [
    "#Google Colab Configure\n",
    "# Generate auth tokens for Colab\n",
    "from google.colab import auth\n",
    "auth.authenticate_user()"
   ]
  },
  {
   "cell_type": "code",
   "execution_count": null,
   "metadata": {
    "colab": {
     "autoexec": {
      "startup": false,
      "wait_interval": 0
     },
     "base_uri": "https://localhost:8080/",
     "height": 106
    },
    "colab_type": "code",
    "executionInfo": {
     "elapsed": 17272,
     "status": "ok",
     "timestamp": 1526705802647,
     "user": {
      "displayName": "Chen-Tai Peng",
      "photoUrl": "https://lh3.googleusercontent.com/a/default-user=s128",
      "userId": "112742147989007255112"
     },
     "user_tz": -480
    },
    "id": "JSxTZUiwD2Ij",
    "outputId": "b4265d6d-97b8-4221-db99-9f5eae7d5ae1"
   },
   "outputs": [],
   "source": [
    "#Google Colab Configure\n",
    "# Generate creds for the Drive FUSE library.\n",
    "from oauth2client.client import GoogleCredentials\n",
    "creds = GoogleCredentials.get_application_default()\n",
    "import getpass\n",
    "!google-drive-ocamlfuse -headless -id={creds.client_id} -secret={creds.client_secret} < /dev/null 2>&1 | grep URL\n",
    "\n",
    "vcode = getpass.getpass()\n",
    "!echo {vcode} | google-drive-ocamlfuse -headless -id={creds.client_id} -secret={creds.client_secret}"
   ]
  },
  {
   "cell_type": "code",
   "execution_count": null,
   "metadata": {
    "colab": {
     "autoexec": {
      "startup": false,
      "wait_interval": 0
     },
     "base_uri": "https://localhost:8080/",
     "height": 2244793
    },
    "colab_type": "code",
    "executionInfo": {
     "elapsed": 33937,
     "status": "ok",
     "timestamp": 1526705851628,
     "user": {
      "displayName": "Chen-Tai Peng",
      "photoUrl": "https://lh3.googleusercontent.com/a/default-user=s128",
      "userId": "112742147989007255112"
     },
     "user_tz": -480
    },
    "id": "k8e62cQpEBci",
    "outputId": "8ed8d2b8-452c-4e73-a6bd-15563f3c2f89"
   },
   "outputs": [],
   "source": [
    "#mount gdrive\n",
    "#unzip from google drive \n",
    "!mkdir -p my_drive\n",
    "!google-drive-ocamlfuse my_drive\n",
    "!ls my_drive\n",
    "!unzip ./my_drive/Colab/chs_cut.zip\n",
    "!ls"
   ]
  },
  {
   "cell_type": "code",
   "execution_count": null,
   "metadata": {
    "colab": {
     "autoexec": {
      "startup": false,
      "wait_interval": 0
     },
     "base_uri": "https://localhost:8080/",
     "height": 763
    },
    "colab_type": "code",
    "executionInfo": {
     "elapsed": 19234,
     "status": "ok",
     "timestamp": 1526705870898,
     "user": {
      "displayName": "Chen-Tai Peng",
      "photoUrl": "https://lh3.googleusercontent.com/a/default-user=s128",
      "userId": "112742147989007255112"
     },
     "user_tz": -480
    },
    "id": "k1Eqz0qID6EB",
    "outputId": "7a795565-6443-4015-f8dc-0dbcbf6fb8f7"
   },
   "outputs": [],
   "source": [
    "!pip3 install gensim\n",
    "import numpy as np\n",
    "import pandas as pd\n",
    "import gensim\n",
    "from sklearn import preprocessing\n",
    "from keras.models import Sequential\n",
    "from keras.layers import Dense,Dropout, Activation,Embedding,SimpleRNN,LSTM,GRU,CuDNNLSTM\n",
    "from keras.utils import to_categorical\n",
    "from gensim.models import word2vec\n",
    "from keras.preprocessing.text import Tokenizer\n",
    "from keras.preprocessing.sequence import pad_sequences\n",
    "from keras.models import model_from_json\n",
    "import h5py\n",
    "import random\n",
    "from random import shuffle\n",
    "import os\n",
    "from glob import glob"
   ]
  },
  {
   "cell_type": "code",
   "execution_count": null,
   "metadata": {
    "colab": {
     "autoexec": {
      "startup": false,
      "wait_interval": 0
     },
     "base_uri": "https://localhost:8080/",
     "height": 52
    },
    "colab_type": "code",
    "executionInfo": {
     "elapsed": 2889439,
     "status": "ok",
     "timestamp": 1526708776487,
     "user": {
      "displayName": "Chen-Tai Peng",
      "photoUrl": "https://lh3.googleusercontent.com/a/default-user=s128",
      "userId": "112742147989007255112"
     },
     "user_tz": -480
    },
    "id": "8-Vwk-w2Edwk",
    "outputId": "92fa726d-6635-4ea0-c919-7e47ff15cbcf"
   },
   "outputs": [],
   "source": [
    "#Get data from processed data.\n",
    "category={'spam': 0, 'ham': 1}\n",
    "files = os.listdir(\"./chs_cut/trec06c\")\n",
    "s=[]\n",
    "\n",
    "embeddingdim=250\n",
    "\n",
    "label=[]\n",
    "t=[]\n",
    "# 以迴圈處理training data\n",
    "path='chs_cut/trec06c/*/*/*'\n",
    "spamData=[]\n",
    "hamData=[]\n",
    "for file in glob(path):\n",
    "    if file.find('spam')>0:\n",
    "        spamData.append(file)\n",
    "    elif file.find('ham')>0:\n",
    "        hamData.append(file)\n",
    "        \n",
    "        \n",
    "shuffle(spamData)\n",
    "print('Shuffle spamData done.')\n",
    "\n",
    "print('Put in spam.')\n",
    "for file in spamData:\n",
    "    k=''\n",
    "    with open(file,'r',encoding='utf8') as f:\n",
    "        k=f.read().replace(\"\\n\",\"/\").replace(\" \",\"\").split(\"/\")\n",
    "    while True:\n",
    "        k_index = k.index('') if '' in k else -1\n",
    "        if k_index==-1 :break\n",
    "        k.pop(k_index)\n",
    "    #print(k)\n",
    "    \n",
    "    s+=[k]\n",
    "    label+=[category['spam']]\n",
    "print('Put in spam done.')\n",
    "\n",
    "    \n",
    "shuffle(hamData)\n",
    "print('Shuffle hamData done.')\n",
    "\n",
    "\n",
    "\n",
    "print('Put in ham.')\n",
    "for file in hamData:\n",
    "    k=''\n",
    "    with open(file,'r',encoding='utf8') as f:\n",
    "        k=f.read().replace(\"\\n\",\"/\").replace(\" \",\"\").split(\"/\")\n",
    "    while True:\n",
    "        k_index = k.index('') if '' in k else -1\n",
    "        if k_index==-1 :break\n",
    "        k.pop(k_index)\n",
    "    #print(k)\n",
    "    \n",
    "    s+=[k]\n",
    "    label+=[category['ham']]\n",
    "print('Put in ham done.')\n",
    "\n",
    "\n",
    "\n",
    "print('Start word2vec.')\n",
    "mod=word2vec.Word2Vec(s,size=embeddingdim, iter=20, sg=1)\n",
    "mod.save(\"a.model\")\n",
    "print('Word2vec done.')\n",
    "#Not know program rate."
   ]
  },
  {
   "cell_type": "code",
   "execution_count": null,
   "metadata": {
    "colab": {
     "autoexec": {
      "startup": false,
      "wait_interval": 0
     },
     "base_uri": "https://localhost:8080/",
     "height": 121
    },
    "colab_type": "code",
    "executionInfo": {
     "elapsed": 29515,
     "status": "ok",
     "timestamp": 1526708806029,
     "user": {
      "displayName": "Chen-Tai Peng",
      "photoUrl": "https://lh3.googleusercontent.com/a/default-user=s128",
      "userId": "112742147989007255112"
     },
     "user_tz": -480
    },
    "id": "L5IVB3pLUwtH",
    "outputId": "a32df475-f589-4417-efbd-e4ef2a149f7f"
   },
   "outputs": [],
   "source": [
    "#Move trained model to gdrive.\n",
    "!ls\n",
    "!cp ./a.model.trainables.syn1neg.npy ./my_drive/Colab/\n",
    "!cp ./a.model.wv.vectors.npy ./my_drive/Colab/\n",
    "!cp ./a.model ./my_drive/Colab/\n",
    "!ls ./my_drive/Colab/\n"
   ]
  },
  {
   "cell_type": "code",
   "execution_count": null,
   "metadata": {
    "colab": {
     "autoexec": {
      "startup": false,
      "wait_interval": 0
     },
     "base_uri": "https://localhost:8080/",
     "height": 746
    },
    "colab_type": "code",
    "executionInfo": {
     "elapsed": 2730450,
     "status": "ok",
     "timestamp": 1526712292562,
     "user": {
      "displayName": "Chen-Tai Peng",
      "photoUrl": "https://lh3.googleusercontent.com/a/default-user=s128",
      "userId": "112742147989007255112"
     },
     "user_tz": -480
    },
    "id": "45ou92f1Ehyo",
    "outputId": "8be7ebe3-66ad-4ebe-f700-ed0339607662"
   },
   "outputs": [],
   "source": [
    "\n",
    "\n",
    "#token\n",
    "templ=len(s)\n",
    "tokenizer = Tokenizer()\n",
    "tokenizer.fit_on_texts(list(s))\n",
    "sequences = tokenizer.texts_to_sequences(s)\n",
    "word_index = tokenizer.word_index\n",
    "print('Found %s unique tokens.' % len(word_index))\n",
    "\n",
    "#Fix the data to a fixed length\n",
    "data = pad_sequences(sequences,maxlen=200)\n",
    "data=data[0:templ]\n",
    "\n",
    "indices = np.arange(data.shape[0])\n",
    "np.random.shuffle(indices)\n",
    "data = data[indices]\n",
    "label=np.asarray(label)\n",
    "label = to_categorical(label[indices])\n",
    "\n",
    "#labels = to_categorical(np.asarray(labels))\n",
    "print('Shape of data tensor:', data.shape)\n",
    "#print('Shape of label tensor:', labels.shape)\n",
    "mod=gensim.models.Word2Vec.load(\"a.model\")\n",
    "\n",
    "embeddingindex={}\n",
    "\n",
    "for w,v in mod.wv.vocab.items():\n",
    "    embeddingindex[w]=mod.wv[w]\n",
    "    \n",
    "embeddingmatrix = np.zeros((len(word_index)+1,int(mod.vector_size)))\n",
    "for w,i in word_index.items():\n",
    "    \n",
    "    vec=embeddingindex.get(w)\n",
    "    if vec is not None:\n",
    "        embeddingmatrix[i+1] = vec\n",
    "        \n",
    "        \n",
    "embedding_layer = Embedding(len(word_index)+1,\n",
    "                            embeddingdim,\n",
    "                            weights=[embeddingmatrix],trainable=False)\n",
    "\n",
    "\n",
    "\n",
    "\n",
    "model = Sequential()\n",
    "model.add(embedding_layer)\n",
    "model.add(LSTM(units=50,unroll=False))\n",
    "model.add(Dense(units=2, input_dim=50,kernel_initializer='uniform'))\n",
    "model.add(Activation('sigmoid'))\n",
    "#model.compile('rmsprop', 'mse')\n",
    "model.compile(optimizer='adam',\n",
    "              loss='categorical_crossentropy',\n",
    "              metrics=['accuracy'])\n",
    "model.summary()\n",
    "\n",
    "#model.fit(x=data,y=label,batch_size=100, epochs=300, verbose=1, validation_split=0.1)\n",
    "model.fit(x=data,y=label,batch_size=100, epochs=10, verbose=1,validation_split=0.2)\n",
    "model.save(\"m.h5\")\n",
    "\n",
    "print(\"OK\\n\")\n",
    "\n",
    "'''\n",
    "##predict\n",
    "y = model.predict_classes(testing)\n",
    "y = pd.DataFrame(y)\n",
    "y.to_csv(\"x.csv\",index=True,header=[\"id,survived\"],float_format=\"%d\")\n",
    "\n",
    "allstr=\"id,category\\n\"\n",
    "k=0\n",
    "with open(\"x.csv\", \"r\") as f:\n",
    "    for i in f.readlines():\n",
    "        if k==0:\n",
    "            k=k+1\n",
    "            continue\n",
    "        allstr+=i\n",
    "        \n",
    "with open(\"x.csv\", \"w\") as f:\n",
    "    f.write(allstr)\n",
    "'''"
   ]
  },
  {
   "cell_type": "code",
   "execution_count": null,
   "metadata": {},
   "outputs": [],
   "source": [
    "#The following used to test."
   ]
  },
  {
   "cell_type": "code",
   "execution_count": null,
   "metadata": {
    "colab": {
     "autoexec": {
      "startup": false,
      "wait_interval": 0
     }
    },
    "colab_type": "code",
    "id": "oJy1_2xgf4Zw"
   },
   "outputs": [],
   "source": [
    "!cp ./x.csv ./my_drive/Colab/"
   ]
  },
  {
   "cell_type": "code",
   "execution_count": null,
   "metadata": {
    "colab": {
     "autoexec": {
      "startup": false,
      "wait_interval": 0
     }
    },
    "colab_type": "code",
    "id": "ZKJCu36uf_Vy"
   },
   "outputs": [],
   "source": [
    "!cp ./m.h5 ./my_drive/Colab/"
   ]
  },
  {
   "cell_type": "code",
   "execution_count": null,
   "metadata": {
    "colab": {
     "autoexec": {
      "startup": false,
      "wait_interval": 0
     }
    },
    "colab_type": "code",
    "id": "-A1bEKs4gcdt"
   },
   "outputs": [],
   "source": []
  }
 ],
 "metadata": {
  "accelerator": "GPU",
  "colab": {
   "default_view": {},
   "name": "TrainSapm.ipynb",
   "provenance": [],
   "version": "0.3.2",
   "views": {}
  },
  "kernelspec": {
   "display_name": "Python 3",
   "language": "python",
   "name": "python3"
  },
  "language_info": {
   "codemirror_mode": {
    "name": "ipython",
    "version": 3
   },
   "file_extension": ".py",
   "mimetype": "text/x-python",
   "name": "python",
   "nbconvert_exporter": "python",
   "pygments_lexer": "ipython3",
   "version": "3.6.4"
  }
 },
 "nbformat": 4,
 "nbformat_minor": 1
}
