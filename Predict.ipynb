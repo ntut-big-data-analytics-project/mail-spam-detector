{
 "cells": [
  {
   "cell_type": "code",
   "execution_count": null,
   "metadata": {},
   "outputs": [],
   "source": [
    "from keras.models import load_model\n",
    "from keras.preprocessing.sequence import pad_sequences\n",
    "from keras.preprocessing.text import Tokenizer\n",
    "\n",
    "from email_helper import *"
   ]
  },
  {
   "cell_type": "code",
   "execution_count": null,
   "metadata": {},
   "outputs": [],
   "source": [
    "eml_path = \"Y:\\\\2c23eff186c76668c7bec9db096a65eb.eml\"  # if len(sys.argv) != 3 else sys.argv[2]\n",
    "write_path = \"zxcv\"\n",
    "model_path = \"m.h5\"\n"
   ]
  },
  {
   "cell_type": "code",
   "execution_count": null,
   "metadata": {},
   "outputs": [],
   "source": [
    "seg_list = process_email(eml_path)\n",
    "print(seg_list)"
   ]
  },
  {
   "cell_type": "code",
   "execution_count": null,
   "metadata": {},
   "outputs": [],
   "source": [
    "with open(write_path, \"w+\", encoding='utf8') as f:\n",
    "    f.write(\"/ \".join(seg_list))"
   ]
  },
  {
   "cell_type": "code",
   "execution_count": null,
   "metadata": {},
   "outputs": [],
   "source": [
    "model = load_model(model_path)\n"
   ]
  },
  {
   "cell_type": "code",
   "execution_count": null,
   "metadata": {},
   "outputs": [],
   "source": [
    "s = []\n",
    "k = ''\n",
    "with open(write_path, 'r', encoding='utf8') as f:\n",
    "    k = f.read().replace(\"\\n\", \"/\").replace(\" \", \"\").split(\"/\")\n",
    "while True:\n",
    "    k_index = k.index('') if '' in k else -1\n",
    "    if k_index == -1:\n",
    "        break\n",
    "    k.pop(k_index)\n",
    "print(k)\n",
    "s += [k]\n",
    "\n",
    "templ = len(s)\n",
    "tokenizer = Tokenizer()\n",
    "tokenizer.fit_on_texts(list(s))\n",
    "sequences = tokenizer.texts_to_sequences(s)\n",
    "data = pad_sequences(sequences, maxlen=200)\n",
    "print(sequences)\n",
    "print(data)\n",
    "\n",
    "y = model.predict_classes(data)\n",
    "\n",
    "print('spam' if (y[0] == 0) else 'ham')\n",
    "# category={'spam': 0, 'ham': 1}\n"
   ]
  },
  {
   "cell_type": "code",
   "execution_count": null,
   "metadata": {},
   "outputs": [],
   "source": []
  }
 ],
 "metadata": {
  "kernelspec": {
   "display_name": "Python 3",
   "language": "python",
   "name": "python3"
  },
  "language_info": {
   "codemirror_mode": {
    "name": "ipython",
    "version": 3
   },
   "file_extension": ".py",
   "mimetype": "text/x-python",
   "name": "python",
   "nbconvert_exporter": "python",
   "pygments_lexer": "ipython3",
   "version": "3.6.5"
  }
 },
 "nbformat": 4,
 "nbformat_minor": 2
}
