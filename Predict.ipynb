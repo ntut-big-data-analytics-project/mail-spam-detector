{
 "cells": [
  {
   "cell_type": "code",
   "execution_count": null,
   "metadata": {},
   "outputs": [],
   "source": [
    "import email\n",
    "import re\n",
    "import sys\n",
    "from email.header import decode_header\n",
    "\n",
    "import chardet\n",
    "import jieba\n",
    "from bs4 import BeautifulSoup\n",
    "from keras.models import load_model\n",
    "from keras.preprocessing.sequence import pad_sequences\n",
    "from keras.preprocessing.text import Tokenizer\n",
    "from zhconv import convert"
   ]
  },
  {
   "cell_type": "code",
   "execution_count": null,
   "metadata": {},
   "outputs": [],
   "source": [
    "NOT_ALLOW_CHAR = re.compile(u\"[^\\u4e00-\\u9fffa-zA-Z,.\\s]\")\n",
    "SYMBOL_RE = re.compile(u\"[.,\\[\\]@\\s:()\\r\\n\\-]+\")\n",
    "SPACE_RE = re.compile(\"^\\s+$\")\n",
    "ENCODING_RE = re.compile(r\"content-type(.*?);(\\s+)?charset(\\s+)?=(\\s+)?['\\\"]?(.*?)['\\\"]?\\s\",\n",
    "                         re.IGNORECASE | re.MULTILINE)\n",
    "\n",
    "eml_path = \"Y:\\\\085.txt\" # if len(sys.argv) != 3 else sys.argv[2]\n",
    "write_path = \"zxcv\"\n",
    "model_path = \"m.h5\""
   ]
  },
  {
   "cell_type": "code",
   "execution_count": null,
   "metadata": {},
   "outputs": [],
   "source": [
    "def split_words(txt: str):\n",
    "    txt = re.sub(SYMBOL_RE, \" \", txt)\n",
    "    txt = re.sub(NOT_ALLOW_CHAR, \"\", txt)\n",
    "    txt = txt.strip()\n",
    "    iterator = jieba.cut(txt)\n",
    "    return list(filter(lambda s: SYMBOL_RE.match(s) is None, iterator))\n",
    "\n",
    "\n",
    "def get_mail_content(msg):\n",
    "    if isinstance(msg, list):\n",
    "        return ' '.join(map(get_mail_content, msg))\n",
    "    else:\n",
    "        content_charset = msg.get_content_charset()\n",
    "        content_type = msg.get_content_type()\n",
    "        content_text = ''\n",
    "        try:\n",
    "            if msg.get('content-transfer-encoding') is not None:\n",
    "                content_text = msg.get_payload(decode=True).decode(content_charset)\n",
    "            else:\n",
    "                content_text = msg.get_payload(decode=False)\n",
    "        except:\n",
    "            content_text = msg.get_payload(decode=False)\n",
    "\n",
    "        if content_type == 'text/plain':\n",
    "            return content_text\n",
    "        elif content_type == 'text/html':\n",
    "            html_instance = BeautifulSoup(content_text, 'html5lib')\n",
    "            return str(html_instance.getText())\n",
    "        else:\n",
    "            payload = msg.get_payload(decode=False)\n",
    "            return payload\n",
    "\n",
    "\n",
    "def read_email(file_path):\n",
    "    fp = open(file_path, 'rb')\n",
    "    try:\n",
    "        eml_content_bytes = fp.read()\n",
    "        fp.close()\n",
    "        guessed_encoding = chardet.detect(eml_content_bytes)\n",
    "        used_encoding = guessed_encoding['encoding']\n",
    "        if guessed_encoding['confidence'] < 0.87:\n",
    "            m = ENCODING_RE.search(str(eml_content_bytes, 'ascii', errors='ignore'))\n",
    "            if m is not None:\n",
    "                m_list = m.groups()\n",
    "                if len(m_list) >= 5:\n",
    "                    used_encoding = m_list[4]\n",
    "\n",
    "            if used_encoding is None:\n",
    "                used_encoding = 'utf-8'\n",
    "\n",
    "        eml_content = str(eml_content_bytes, encoding=used_encoding, errors='ignore')\n",
    "        return email.message_from_string(eml_content)\n",
    "    except Exception as e:\n",
    "        print(file_path, e)\n",
    "        return None\n",
    "\n"
   ]
  },
  {
   "cell_type": "code",
   "execution_count": null,
   "metadata": {},
   "outputs": [],
   "source": [
    "text_list = []\n",
    "msg = read_email(eml_path)"
   ]
  },
  {
   "cell_type": "code",
   "execution_count": null,
   "metadata": {},
   "outputs": [],
   "source": [
    "subject, charset = decode_header(msg['SUBJECT'])[0]\n",
    "\n",
    "if charset:\n",
    "    subject = subject.decode(charset, errors='ignore')\n",
    "\n",
    "subject = split_words(subject)\n",
    "print(subject)\n",
    "text_list.extend(subject)"
   ]
  },
  {
   "cell_type": "code",
   "execution_count": null,
   "metadata": {},
   "outputs": [],
   "source": [
    "content = \"\"\n",
    "if msg.is_multipart():\n",
    "    content = get_mail_content(msg.get_payload())\n",
    "else:\n",
    "    content = get_mail_content(msg)\n",
    "\n",
    "print(content)\n",
    "results = split_words(content)\n",
    "print(results)\n",
    "text_list.extend(results)"
   ]
  },
  {
   "cell_type": "code",
   "execution_count": null,
   "metadata": {},
   "outputs": [],
   "source": [
    "cn_text_list = list(map(lambda txt: convert(txt, 'zh-cn'), text_list))\n",
    "print(cn_text_list)\n",
    "# print(HanziConv.toTraditional(str))\n",
    "seg_list = cn_text_list"
   ]
  },
  {
   "cell_type": "code",
   "execution_count": null,
   "metadata": {},
   "outputs": [],
   "source": [
    "with open(write_path, \"w+\", encoding='utf8') as f:\n",
    "    f.write(\"/ \".join(seg_list))"
   ]
  },
  {
   "cell_type": "code",
   "execution_count": null,
   "metadata": {},
   "outputs": [],
   "source": [
    "model = load_model(model_path)\n"
   ]
  },
  {
   "cell_type": "code",
   "execution_count": null,
   "metadata": {},
   "outputs": [],
   "source": [
    "s = []\n",
    "k = ''\n",
    "with open(write_path, 'r', encoding='utf8') as f:\n",
    "    k = f.read().replace(\"\\n\", \"/\").replace(\" \", \"\").split(\"/\")\n",
    "while True:\n",
    "    k_index = k.index('') if '' in k else -1\n",
    "    if k_index == -1:\n",
    "        break\n",
    "    k.pop(k_index)\n",
    "print(k)\n",
    "s += [k]\n",
    "\n",
    "templ = len(s)\n",
    "tokenizer = Tokenizer()\n",
    "tokenizer.fit_on_texts(list(s))\n",
    "sequences = tokenizer.texts_to_sequences(s)\n",
    "data = pad_sequences(sequences, maxlen=200)\n",
    "print(sequences)\n",
    "print(data)\n",
    "\n",
    "y = model.predict_classes(data)\n",
    "\n",
    "print('spam' if (y[0] == 0) else 'ham')\n",
    "# category={'spam': 0, 'ham': 1}\n"
   ]
  },
  {
   "cell_type": "code",
   "execution_count": null,
   "metadata": {},
   "outputs": [],
   "source": []
  }
 ],
 "metadata": {
  "kernelspec": {
   "display_name": "Python 3",
   "language": "python",
   "name": "python3"
  },
  "language_info": {
   "codemirror_mode": {
    "name": "ipython",
    "version": 3
   },
   "file_extension": ".py",
   "mimetype": "text/x-python",
   "name": "python",
   "nbconvert_exporter": "python",
   "pygments_lexer": "ipython3",
   "version": "3.6.5"
  }
 },
 "nbformat": 4,
 "nbformat_minor": 2
}
