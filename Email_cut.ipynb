{
 "cells": [
  {
   "cell_type": "code",
   "execution_count": null,
   "metadata": {},
   "outputs": [],
   "source": [
    "import email \n",
    "import os\n",
    "from glob import glob\n",
    "from email.header import decode_header\n",
    "import jieba\n",
    "import re\n",
    "from hanziconv import HanziConv\n",
    "from zhconv import convert"
   ]
  },
  {
   "cell_type": "code",
   "execution_count": null,
   "metadata": {},
   "outputs": [],
   "source": [
    "xx = u\"([\\u4e00-\\u9fff]+)\"  \n",
    "file='trec06c/data/*/*'\n",
    "str=open(file, 'r',encoding='GB18030',errors='ignore').read()\n",
    "msg = email.message_from_string(str)\n",
    "subject, charset =decode_header(msg['SUBJECT'])[0]\n",
    "text=\"\"\n",
    "print(msg['SUBJECT'])\n",
    "print(subject)\n",
    "print(charset)\n",
    "if charset:\n",
    "    charset='GB18030'\n",
    "    subject = subject.decode(charset,errors='ignore')\n",
    "    pattern =   re.compile(xx)  \n",
    "    results =   pattern.findall(subject) \n",
    "    c=\"\"\n",
    "    text+='Subject:\\n'\n",
    "    for r in results:\n",
    "        c+=r\n",
    "    text+=c+'\\n'\n",
    "\n",
    "content=msg.get_payload()\n",
    "pattern =   re.compile(xx)  \n",
    "results =   pattern.findall(content) \n",
    "c=\"\"\n",
    "text+='Content:\\n'\n",
    "for r in results:\n",
    "    c+=r\n",
    "text+=c+'\\n'\n",
    "print(text)\n",
    "seg_list = jieba.cut(convert(text, 'zh-tw'))\n",
    "print(\"Full Mode: \" + \"/ \".join(seg_list))  # 全模式\n",
    "print(.join(seg_list))\n"
   ]
  },
  {
   "cell_type": "code",
   "execution_count": null,
   "metadata": {},
   "outputs": [],
   "source": [
    "#The following used to test."
   ]
  },
  {
   "cell_type": "code",
   "execution_count": null,
   "metadata": {},
   "outputs": [],
   "source": [
    "'''\n",
    "繁體中文\n",
    "'''\n",
    "file='cht/trec06c/data/175/025'\n",
    "str=open(file, 'r',encoding='utf8',errors='ignore').read()\n",
    "msg = email.message_from_string(str)\n",
    "subject, charset =decode_header(msg['SUBJECT'])[0]\n",
    "if charset:\n",
    "    subject = subject.decode(charset)\n",
    "print('Received:'+msg['Received'])\n",
    "print('From:'+msg['From'].decode(charset))\n",
    "#print('Reply-To:'+msg['Reply-To'])\n",
    "\n",
    "print('Subject:'+subject+'\\n')\n",
    "\n",
    "print('Content:'+msg.get_payload()) # prints the raw text\n",
    "seg_list = jieba.cut(msg.get_payload())\n",
    "print(\"Full Mode: \" + \"/ \".join(seg_list))  # 全模式"
   ]
  },
  {
   "cell_type": "code",
   "execution_count": null,
   "metadata": {},
   "outputs": [],
   "source": [
    "a='asdf,zxcv,asdf'\n",
    "a=a.replace('zxcv','')\n",
    "print(a.replace(',',''))"
   ]
  },
  {
   "cell_type": "code",
   "execution_count": null,
   "metadata": {},
   "outputs": [],
   "source": [
    "b=['asd','zxvc','asd']\n",
    "b_index = b.index('asd') if 'asdf' in b else -1\n",
    "print(b_index)"
   ]
  },
  {
   "cell_type": "code",
   "execution_count": null,
   "metadata": {},
   "outputs": [],
   "source": [
    "seg_list = jieba.cut(\"我来到北京清华大学\")\n",
    "print(\"Full Mode: \" + \"/ \".join(seg_list))  # 全模式"
   ]
  },
  {
   "cell_type": "code",
   "execution_count": null,
   "metadata": {},
   "outputs": [],
   "source": [
    "path='trec06c/data/*/*'\n",
    "\n",
    "for file in glob(path):\n",
    "    str=open(file, 'r',encoding='gb2312',errors='ignore').read()\n",
    "    msg = email.message_from_string(str)"
   ]
  }
 ],
 "metadata": {
  "kernelspec": {
   "display_name": "Python 3",
   "language": "python",
   "name": "python3"
  },
  "language_info": {
   "codemirror_mode": {
    "name": "ipython",
    "version": 3
   },
   "file_extension": ".py",
   "mimetype": "text/x-python",
   "name": "python",
   "nbconvert_exporter": "python",
   "pygments_lexer": "ipython3",
   "version": "3.6.4"
  }
 },
 "nbformat": 4,
 "nbformat_minor": 2
}
