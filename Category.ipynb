{
 "cells": [
  {
   "cell_type": "code",
   "execution_count": null,
   "metadata": {},
   "outputs": [],
   "source": [
    "import email \n",
    "import os\n",
    "from glob import glob\n",
    "from email.header import decode_header,make_header\n",
    "import jieba\n",
    "import base64    \n",
    "from shutil import copyfile\n",
    "import path"
   ]
  },
  {
   "cell_type": "code",
   "execution_count": null,
   "metadata": {},
   "outputs": [],
   "source": [
    "print(glob(os.getcwd()+'/chs_cut/trec06c/*'))"
   ]
  },
  {
   "cell_type": "code",
   "execution_count": null,
   "metadata": {},
   "outputs": [],
   "source": [
    "\n",
    "dataPath='/chs_cut/trec06c'\n",
    "with open('trec06c/delay/index','r') as f:\n",
    "    for line in f:\n",
    "        if 'Spam' in line or 'Ham' in line:\n",
    "            print(line)\n",
    "            dstPath=(os.getcwd()+dataPath+'/'+line.split(' ')[0].lower()+line.split('..')[1]).replace('/data','')\n",
    "            print(dstPath)\n",
    "            os.makedirs(os.path.dirname(dstPath), exist_ok=True)\n",
    "            srcPath=os.getcwd()+dataPath+line.split('..')[1]\n",
    "            print(srcPath)\n",
    "            copyfile(srcPath.strip(),dstPath.strip())"
   ]
  },
  {
   "cell_type": "code",
   "execution_count": null,
   "metadata": {},
   "outputs": [],
   "source": [
    "#The following used to test."
   ]
  },
  {
   "cell_type": "code",
   "execution_count": null,
   "metadata": {},
   "outputs": [],
   "source": [
    "list=[]\n",
    "with open('trec06c/delay/index','r') as f:\n",
    "    for line in f:\n",
    "        list.append(line)\n",
    "len(list)"
   ]
  },
  {
   "cell_type": "code",
   "execution_count": null,
   "metadata": {},
   "outputs": [],
   "source": []
  }
 ],
 "metadata": {
  "kernelspec": {
   "display_name": "Python 3",
   "language": "python",
   "name": "python3"
  },
  "language_info": {
   "codemirror_mode": {
    "name": "ipython",
    "version": 3
   },
   "file_extension": ".py",
   "mimetype": "text/x-python",
   "name": "python",
   "nbconvert_exporter": "python",
   "pygments_lexer": "ipython3",
   "version": "3.6.4"
  }
 },
 "nbformat": 4,
 "nbformat_minor": 2
}
