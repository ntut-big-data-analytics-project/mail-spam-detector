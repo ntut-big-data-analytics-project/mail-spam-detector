{
 "cells": [
  {
   "cell_type": "code",
   "execution_count": null,
   "metadata": {},
   "outputs": [],
   "source": [
    "from hanziconv import HanziConv\n",
    "import os\n",
    "from glob import glob\n",
    "import email \n",
    "from email.header import decode_header\n",
    "import jieba\n",
    "import re"
   ]
  },
  {
   "cell_type": "code",
   "execution_count": null,
   "metadata": {},
   "outputs": [],
   "source": [
    "path='trec06c/data/*/*'\n",
    "xx = u\"([\\u4e00-\\u9fff]+)\"\n",
    "write_path='chs_cut/'\n",
    "\n",
    "for file in glob(path):\n",
    "    \n",
    "    str=open(file, 'r',encoding='GB18030',errors='ignore').read()\n",
    "    msg = email.message_from_string(str)\n",
    "    subject, charset =decode_header(msg['SUBJECT'])[0]\n",
    "    text=\"\"\n",
    "    if charset:\n",
    "        charset='GB18030'\n",
    "        try:\n",
    "            subject = subject.decode(charset,errors='ignore')\n",
    "        except:\n",
    "            print(\"Subject decode error:\")\n",
    "            print(file+'\\n')\n",
    "        \n",
    "        pattern =   re.compile(xx)  \n",
    "        try:\n",
    "            results =   pattern.findall(subject) \n",
    "        except:\n",
    "            print('Results error.')\n",
    "            print(file+'\\n')\n",
    "        c=\"\"\n",
    "        for r in results:\n",
    "            c+=r\n",
    "        text+=c+'\\n'\n",
    "    content=msg.get_payload()\n",
    "    pattern =   re.compile(xx)  \n",
    "    results =   pattern.findall(content) \n",
    "    c=\"\"\n",
    "    for r in results:\n",
    "        c+=r\n",
    "    text+=c+'\\n'\n",
    "    \n",
    "    \n",
    "    #print(HanziConv.toTraditional(str))\n",
    "    filename = write_path+file\n",
    "    os.makedirs(os.path.dirname(filename), exist_ok=True)\n",
    "    seg_list = jieba.cut(text)\n",
    "    with open(filename, \"w+\",encoding='utf8') as f:\n",
    "        f.write(\"/ \".join(seg_list))\n"
   ]
  },
  {
   "cell_type": "code",
   "execution_count": null,
   "metadata": {},
   "outputs": [],
   "source": [
    "#The following used to test."
   ]
  },
  {
   "cell_type": "code",
   "execution_count": null,
   "metadata": {},
   "outputs": [],
   "source": [
    "os.getcwd()"
   ]
  }
 ],
 "metadata": {
  "kernelspec": {
   "display_name": "Python 3",
   "language": "python",
   "name": "python3"
  },
  "language_info": {
   "codemirror_mode": {
    "name": "ipython",
    "version": 3
   },
   "file_extension": ".py",
   "mimetype": "text/x-python",
   "name": "python",
   "nbconvert_exporter": "python",
   "pygments_lexer": "ipython3",
   "version": "3.6.4"
  }
 },
 "nbformat": 4,
 "nbformat_minor": 2
}
